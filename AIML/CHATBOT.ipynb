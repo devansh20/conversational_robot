{
 "cells": [
  {
   "cell_type": "code",
   "execution_count": null,
   "metadata": {},
   "outputs": [],
   "source": [
    "import aiml\n",
    "\n",
    "# Create the kernel and learn AIML files\n",
    "kernel = aiml.Kernel()\n",
    "kernel.learn(\"start.xml\")\n",
    "kernel.respond(\"load aiml b\")\n",
    "\n",
    "# Press CTRL-C to break this loop\n",
    "print(\" \")\n",
    "print(\"Welcome to chat bot\")\n",
    "print(\" \")\n",
    "while True:\n",
    " print(kernel.respond(input(\"Type to talk>>\")))"
   ]
  },
  {
   "cell_type": "code",
   "execution_count": null,
   "metadata": {},
   "outputs": [],
   "source": [
    "\n"
   ]
  },
  {
   "cell_type": "code",
   "execution_count": null,
   "metadata": {},
   "outputs": [],
   "source": []
  },
  {
   "cell_type": "code",
   "execution_count": null,
   "metadata": {},
   "outputs": [],
   "source": []
  }
 ],
 "metadata": {
  "kernelspec": {
   "display_name": "Python 3",
   "language": "python",
   "name": "python3"
  },
  "language_info": {
   "codemirror_mode": {
    "name": "ipython",
    "version": 3
   },
   "file_extension": ".py",
   "mimetype": "text/x-python",
   "name": "python",
   "nbconvert_exporter": "python",
   "pygments_lexer": "ipython3",
   "version": "3.7.7"
  }
 },
 "nbformat": 4,
 "nbformat_minor": 4
}
