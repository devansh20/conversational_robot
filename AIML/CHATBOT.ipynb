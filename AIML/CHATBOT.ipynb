{
 "cells": [
  {
   "cell_type": "code",
   "execution_count": null,
   "metadata": {},
   "outputs": [
    {
     "name": "stdout",
     "output_type": "stream",
     "text": [
      "Loading start.xml...done (0.01 seconds)\n",
      "Loading basic_chat.aiml...done (0.00 seconds)\n",
      " \n",
      "Welcome to chat bot\n",
      " \n",
      "Type to talk>>hi\n",
      "Hi! Welcome to The RainForest Restaurant! Would you like to reserve a table or get home delivery or track your order?\n",
      "Type to talk>>die\n"
     ]
    },
    {
     "name": "stderr",
     "output_type": "stream",
     "text": [
      "WARNING: No match found for input: die\n"
     ]
    },
    {
     "name": "stdout",
     "output_type": "stream",
     "text": [
      "\n",
      "Type to talk>>track\n",
      "Can you please provide your tracking ID?\n",
      "Type to talk>>gthnrtn\n",
      "Sorry for the delay but the delivery boy is stuck in a jam. He'll be reaching your place in 15 minutes.\n",
      "Type to talk>>But I placed the order just now\n"
     ]
    },
    {
     "name": "stderr",
     "output_type": "stream",
     "text": [
      "WARNING: No match found for input: But I placed the order just now\n"
     ]
    },
    {
     "name": "stdout",
     "output_type": "stream",
     "text": [
      "\n",
      "Type to talk>>is the food bad\n"
     ]
    },
    {
     "name": "stderr",
     "output_type": "stream",
     "text": [
      "WARNING: No match found for input: is the food bad\n"
     ]
    },
    {
     "name": "stdout",
     "output_type": "stream",
     "text": [
      "\n",
      "Type to talk>>is the food good\n"
     ]
    },
    {
     "name": "stderr",
     "output_type": "stream",
     "text": [
      "WARNING: No match found for input: is the food good\n"
     ]
    },
    {
     "name": "stdout",
     "output_type": "stream",
     "text": [
      "\n",
      "Type to talk>>how are you\n"
     ]
    },
    {
     "name": "stderr",
     "output_type": "stream",
     "text": [
      "WARNING: No match found for input: how are you\n"
     ]
    },
    {
     "name": "stdout",
     "output_type": "stream",
     "text": [
      "\n",
      "Type to talk>>what are you\n",
      "I am a customer service Bot, silly!\n",
      "Type to talk>>I want to reserve a table\n",
      "Fantastic! Can you specify the time of your arrival?\n",
      "Type to talk>>Never\n",
      "We have seats available at that time. May I have your name too?\n",
      "Type to talk>>bhoot\n",
      "Thank you. May I also know how many people will be there with you?\n",
      "Type to talk>>no\n",
      "Thank You bhoot. Your booking at Never for no people is confirmed. Please try to come on time. We hope to see you soon!\n",
      "Type to talk>>byeeee\n"
     ]
    },
    {
     "name": "stderr",
     "output_type": "stream",
     "text": [
      "WARNING: No match found for input: byeeee\n"
     ]
    },
    {
     "name": "stdout",
     "output_type": "stream",
     "text": [
      "\n",
      "Type to talk>>by\n"
     ]
    },
    {
     "name": "stderr",
     "output_type": "stream",
     "text": [
      "WARNING: No match found for input: by\n"
     ]
    },
    {
     "name": "stdout",
     "output_type": "stream",
     "text": [
      "\n",
      "Type to talk>>bye\n",
      "BYE! Hope to see you again soon!\n",
      "Type to talk>>hello\n",
      "Hi! Welcome to The RainForest Restaurant! Would you like to reserve a table or get home delivery or track your order?\n",
      "Type to talk>>Home delivery\n",
      "Great! We have a variety of cuisines available. You can order from Chinese, Indian and Italian. Please specify your order.\n",
      "Type to talk>>pasta\n",
      "That is an excellent choice! Can you specify the quantity as well?\n",
      "Type to talk>>none\n",
      "Along with it, we also offer one complementary dessert. You have to decide which one from Kulfi, Ice Cream and GulabJamun?\n",
      "Type to talk>>kulfi\n",
      "Noted. Can you tell me your name now please?\n"
     ]
    }
   ],
   "source": [
    "import aiml\n",
    "\n",
    "# Create the kernel and learn AIML files\n",
    "kernel = aiml.Kernel()\n",
    "kernel.learn(\"start.xml\")\n",
    "kernel.respond(\"load aiml b\")\n",
    "\n",
    "# Press CTRL-C to break this loop\n",
    "print(\" \")\n",
    "print(\"Welcome to chat bot\")\n",
    "print(\" \")\n",
    "while True:\n",
    " print(kernel.respond(input(\"Type to talk>>\")))"
   ]
  },
  {
   "cell_type": "code",
   "execution_count": null,
   "metadata": {},
   "outputs": [],
   "source": [
    "\n"
   ]
  },
  {
   "cell_type": "code",
   "execution_count": null,
   "metadata": {},
   "outputs": [],
   "source": []
  },
  {
   "cell_type": "code",
   "execution_count": null,
   "metadata": {},
   "outputs": [],
   "source": []
  }
 ],
 "metadata": {
  "kernelspec": {
   "display_name": "Python 3",
   "language": "python",
   "name": "python3"
  },
  "language_info": {
   "codemirror_mode": {
    "name": "ipython",
    "version": 3
   },
   "file_extension": ".py",
   "mimetype": "text/x-python",
   "name": "python",
   "nbconvert_exporter": "python",
   "pygments_lexer": "ipython3",
   "version": "3.7.7"
  }
 },
 "nbformat": 4,
 "nbformat_minor": 4
}
